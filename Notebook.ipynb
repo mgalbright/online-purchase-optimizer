{
 "cells": [
  {
   "cell_type": "markdown",
   "id": "5bb2cce9-396f-4435-a274-05a65e235e93",
   "metadata": {},
   "source": [
    "# Intro\n",
    "\n",
    "This notebook demonstrates how to use the retailoptimizer library to minimize the costs of your online purchases. \n"
   ]
  },
  {
   "cell_type": "code",
   "execution_count": 1,
   "id": "7781f06e-7c1e-4d96-93ff-fbda490edb34",
   "metadata": {},
   "outputs": [],
   "source": [
    "import numpy as np\n",
    "import pandas as pd\n",
    "from retailoptimizer import RetailProblem, print_avail_solvers\n",
    "from pulp import LpMinimize, LpProblem, LpStatus, lpSum, LpVariable, LpInteger, LpBinary, makeDict"
   ]
  },
  {
   "cell_type": "code",
   "execution_count": 2,
   "id": "2e25529d-b351-43a3-9f48-9cf82fbc5ce0",
   "metadata": {},
   "outputs": [],
   "source": [
    "%load_ext autoreload\n",
    "%autoreload 2\n",
    "import os\n",
    "import sys\n",
    "module_path = os.path.abspath(os.path.join('../'))  \n",
    "sys.path.insert(0, module_path)"
   ]
  },
  {
   "cell_type": "code",
   "execution_count": null,
   "id": "6d3b946f-7809-4806-bf07-257a9990cdba",
   "metadata": {},
   "outputs": [],
   "source": []
  },
  {
   "cell_type": "code",
   "execution_count": null,
   "id": "2ad43ec9-38f2-4125-94d4-41112fdfbbba",
   "metadata": {},
   "outputs": [],
   "source": [
    "#Optional: test your installation of Pulp optimization libary\n",
    "import pulp\n",
    "pulp.pulpTestAll()"
   ]
  },
  {
   "cell_type": "code",
   "execution_count": null,
   "id": "9dff6675-16c8-418e-9627-2c4a372900c2",
   "metadata": {},
   "outputs": [],
   "source": []
  },
  {
   "cell_type": "markdown",
   "id": "f04abf55-8ea9-4e02-978d-17e7be9284f7",
   "metadata": {},
   "source": [
    "## Small sample problem using Python \n",
    "\n",
    "For a concrete example, assume a consumer wants to purchase fishing lures online. In the example below, the consumer wishes to buy 3 packs of plastic minnows and 20 fish hooks, and is considering 2 retailers. Let's find the cheapest purchase.\n",
    "\n",
    "In the following python code, we create variables to define the problem. We must specify:\n",
    "1. Items: What items we want to buy? (I.e. what fishing lures to buy?)\n",
    "1. Quantities: How many of each item we want to buy? (E.g. we want to buy 20 hooks.)\n",
    "1. Retailers: What are the names of the retailers we are shopping from?\n",
    "1. Prices: What are the prices (per lure) for each fishing lure at each retailer?\n",
    "1. Inventory: How many of each lure are in stock at each retailer?\n",
    "   (If there is no inventory limit, enter a large value greater than the quantity desired, e.g. 100.)\n",
    "1. Shipping: how much does shipping cost at each retailer, if your order is below the threshold for free shipping? (E.g., you must pay \\\\$4.00 for shipping at Retailer 2, unless you qualify for free shipping.)\n",
    "1. Free shipping threshold: enter the thresholds (in dollars) to qualify for free shipping. (E.g. if your order at Retailer 2 is at least \\\\$60, you get free shipping.)\n",
    "1. Sometimes you can reduce your bill by ordering more items than desired, to qualify for free shipping. Is that ok?"
   ]
  },
  {
   "cell_type": "code",
   "execution_count": 4,
   "id": "5808a3ea-68f3-46ba-842d-0d66451854d4",
   "metadata": {},
   "outputs": [],
   "source": [
    "#Problem specification\n",
    "\n",
    "#Order info\n",
    "lures = [\"plastic minnows\", \"hooks\"]   \n",
    "num_lures_to_buy = [3, 20]\n",
    "\n",
    "#retailer info\n",
    "retailers = [\"Retailer1\", \"Retailer2\"]  \n",
    "prices = [\n",
    "    [4.99, 5.49],   #price of plastic minnows at [Retailer1, Retailer2]\n",
    "    [3.99, 3.49]    #price of hooks at [Retailer1, Retailer2]\n",
    "]\n",
    "inventory = [\n",
    "    [100, 10],    #max number of plastic minnows available at [Retailer1, Retailer2]\n",
    "    [15, 30],     #max number of hooks available at [Retailer1, Retailer2]\n",
    "]\n",
    "\n",
    "shipping = [7.0, 4.0] #shipping price in dollars at [Retailer1, Retailer2]\n",
    "free_shipping_threshold = [50.0, 60.0] #Order threshold in dollars to qualify for free shipping @ [Retailer1, 2]\n",
    "\n",
    "CAN_BUY_EXTRA_LURES_IF_CHEAPER = True"
   ]
  },
  {
   "cell_type": "code",
   "execution_count": null,
   "id": "a0025146-88ef-49f2-8888-0bd77b7c9097",
   "metadata": {},
   "outputs": [],
   "source": []
  },
  {
   "cell_type": "code",
   "execution_count": 5,
   "id": "d843a494-fe3a-4ec7-bff7-cd8d165c7392",
   "metadata": {},
   "outputs": [
    {
     "name": "stdout",
     "output_type": "stream",
     "text": [
      "Available optimization solvers are: \n",
      "GLPK_CMD\n",
      "PULP_CBC_CMD\n",
      "COIN_CMD\n"
     ]
    }
   ],
   "source": [
    "print(\"Available optimization solvers are: \")\n",
    "print_avail_solvers()"
   ]
  },
  {
   "cell_type": "code",
   "execution_count": null,
   "id": "3fa77d13-e19f-4e42-97cf-bb54d3bf7a80",
   "metadata": {},
   "outputs": [],
   "source": [
    "#Specify solver to use\n",
    "\n",
    "# SOLVER_NAME = 'PULP_CBC_CMD'\n",
    "SOLVER_NAME = 'GLPK_CMD'\n",
    "\n",
    "#Create Optimization Problem\n",
    "\n",
    "p1 = RetailProblem(lures, num_lures_to_buy, retailers, prices,\n",
    "                   inventory, shipping, free_shipping_threshold,\n",
    "                   solver_name=SOLVER_NAME, \n",
    "                   can_buy_extra_lures_if_cheaper = CAN_BUY_EXTRA_LURES_IF_CHEAPER)"
   ]
  },
  {
   "cell_type": "code",
   "execution_count": 7,
   "id": "116d9f19-940f-4183-8f25-500fa7f7acf8",
   "metadata": {},
   "outputs": [
    {
     "name": "stdout",
     "output_type": "stream",
     "text": [
      "solver = GLPK_CMD\n",
      "GLPSOL--GLPK LP/MIP Solver 5.0\n",
      "Parameter(s) specified in the command line:\n",
      " --cpxlp /var/folders/p6/4vh57wr97x145dy_65rhg3k80000gn/T/cf78800b291a4f4992f58560f4e6c903-pulp.lp\n",
      " -o /var/folders/p6/4vh57wr97x145dy_65rhg3k80000gn/T/cf78800b291a4f4992f58560f4e6c903-pulp.sol\n",
      "Reading problem data from '/var/folders/p6/4vh57wr97x145dy_65rhg3k80000gn/T/cf78800b291a4f4992f58560f4e6c903-pulp.lp'...\n",
      "10 rows, 8 columns, 22 non-zeros\n",
      "8 integer variables, 4 of which are binary\n",
      "44 lines were read\n",
      "GLPK Integer Optimizer 5.0\n",
      "10 rows, 8 columns, 22 non-zeros\n",
      "8 integer variables, 4 of which are binary\n",
      "Preprocessing...\n",
      "4 constraint coefficient(s) were reduced\n",
      "6 rows, 7 columns, 16 non-zeros\n",
      "7 integer variables, 3 of which are binary\n",
      "Scaling...\n",
      " A: min|aij| =  1.000e+00  max|aij| =  1.150e+02  ratio =  1.150e+02\n",
      "GM: min|aij| =  5.433e-01  max|aij| =  1.841e+00  ratio =  3.388e+00\n",
      "EQ: min|aij| =  2.952e-01  max|aij| =  1.000e+00  ratio =  3.388e+00\n",
      "2N: min|aij| =  2.500e-01  max|aij| =  1.330e+00  ratio =  5.319e+00\n",
      "Constructing initial basis...\n",
      "Size of triangular part is 6\n",
      "Solving LP relaxation...\n",
      "GLPK Simplex Optimizer 5.0\n",
      "6 rows, 7 columns, 16 non-zeros\n",
      "      0: obj =   1.745000000e+01 inf =   8.228e+01 (4)\n",
      "      4: obj =   9.111885716e+01 inf =   0.000e+00 (0)\n",
      "*     6: obj =   8.477000000e+01 inf =   0.000e+00 (0)\n",
      "OPTIMAL LP SOLUTION FOUND\n",
      "Integer optimization begins...\n",
      "Long-step dual simplex will be used\n",
      "+     6: mip =     not found yet >=              -inf        (1; 0)\n",
      "+     6: >>>>>   8.627000000e+01 >=   8.627000000e+01   0.0% (2; 0)\n",
      "+     6: mip =   8.627000000e+01 >=     tree is empty   0.0% (0; 3)\n",
      "INTEGER OPTIMAL SOLUTION FOUND\n",
      "Time used:   0.0 secs\n",
      "Memory used: 0.1 Mb (65547 bytes)\n",
      "Writing MIP solution to '/var/folders/p6/4vh57wr97x145dy_65rhg3k80000gn/T/cf78800b291a4f4992f58560f4e6c903-pulp.sol'...\n"
     ]
    }
   ],
   "source": [
    "#Find optimimal solution\n",
    "p1.solve()"
   ]
  },
  {
   "cell_type": "code",
   "execution_count": 8,
   "id": "81911a84-2a4c-4824-aee3-c267cdc108fe",
   "metadata": {},
   "outputs": [
    {
     "name": "stdout",
     "output_type": "stream",
     "text": [
      "Optimal solution found.\n",
      "Status: Optimal\n",
      "empty_order_retailer1 = 1\n",
      "empty_order_retailer2 = 0\n",
      "pay_shipping_retailer1 = 0\n",
      "pay_shipping_retailer2 = 0\n",
      "quant_hooks_retailer1 = 0\n",
      "quant_hooks_retailer2 = 20\n",
      "quant_plastic_minnows_retailer1 = 0\n",
      "quant_plastic_minnows_retailer2 = 3\n",
      "Total purchase cost =  86.27000000000001\n"
     ]
    }
   ],
   "source": [
    "if p1.model.status == 1:\n",
    "  print(f\"Optimal solution found.\")\n",
    "  p1.print_optimization_results()\n",
    "else:\n",
    "  print(f\"WARNING: optimal solution was not found. Model status was {LpStatus[p1.model.status]}\")"
   ]
  },
  {
   "cell_type": "markdown",
   "id": "35bafa93-bd04-4865-97ee-da34bb469156",
   "metadata": {},
   "source": [
    "## Results\n",
    "In the results above (for this simple problem), we see it is cheapest to order everything from Retailer2, i.e. order 20 hooks and 3 plastic minnows from Retailer 2. We order nothing from Retailer 1. We also see that we do not need to pay for shipping. The total bill is \\\\$86.27"
   ]
  },
  {
   "cell_type": "code",
   "execution_count": null,
   "id": "b4cf1b69-54bd-455f-b532-99156c501ba8",
   "metadata": {},
   "outputs": [],
   "source": []
  },
  {
   "cell_type": "markdown",
   "id": "e4952001-1f4f-47f1-baa5-0a3aa77d1f82",
   "metadata": {},
   "source": [
    "We can also programmatically access the quanties of items to order, e.g."
   ]
  },
  {
   "cell_type": "code",
   "execution_count": 9,
   "id": "33e030ec-1eab-4605-8775-584542dcc6d6",
   "metadata": {},
   "outputs": [
    {
     "data": {
      "text/plain": [
       "0"
      ]
     },
     "execution_count": 9,
     "metadata": {},
     "output_type": "execute_result"
    }
   ],
   "source": [
    "p1.quantity_to_order['hooks']['retailer1'].varValue"
   ]
  },
  {
   "cell_type": "code",
   "execution_count": 10,
   "id": "ead4ce34-b9da-4ede-8da4-7e7b2e6132fe",
   "metadata": {},
   "outputs": [
    {
     "data": {
      "text/plain": [
       "20"
      ]
     },
     "execution_count": 10,
     "metadata": {},
     "output_type": "execute_result"
    }
   ],
   "source": [
    "p1.quantity_to_order['hooks']['retailer2'].varValue"
   ]
  },
  {
   "cell_type": "code",
   "execution_count": 11,
   "id": "7d5a64c5-8925-40d2-8cf0-bdd8393e5c4c",
   "metadata": {},
   "outputs": [
    {
     "data": {
      "text/plain": [
       "0"
      ]
     },
     "execution_count": 11,
     "metadata": {},
     "output_type": "execute_result"
    }
   ],
   "source": [
    "p1.quantity_to_order['plastic-minnows']['retailer1'].varValue"
   ]
  },
  {
   "cell_type": "code",
   "execution_count": 12,
   "id": "4ea31765-652d-493e-adcf-bd78f04f60f2",
   "metadata": {},
   "outputs": [
    {
     "data": {
      "text/plain": [
       "3"
      ]
     },
     "execution_count": 12,
     "metadata": {},
     "output_type": "execute_result"
    }
   ],
   "source": [
    "p1.quantity_to_order['plastic-minnows']['retailer2'].varValue"
   ]
  },
  {
   "cell_type": "code",
   "execution_count": null,
   "id": "4c08f21f-a3e1-4216-b7ad-af77606275a8",
   "metadata": {},
   "outputs": [],
   "source": []
  },
  {
   "cell_type": "code",
   "execution_count": null,
   "id": "c7ec781c-5a8f-4bd6-928f-9b720133b742",
   "metadata": {},
   "outputs": [],
   "source": []
  },
  {
   "cell_type": "markdown",
   "id": "7296b621-f227-4f28-81b0-c023778e5eb1",
   "metadata": {},
   "source": [
    "## Excel example\n",
    "For every-day-use, it's easier to enter data in a spreadsheet than in Python data structures, so we illustrate how to solve the same problem using the sample Excel file included in the repository. You can also directly process the file from the command line."
   ]
  },
  {
   "cell_type": "code",
   "execution_count": 13,
   "id": "7dcaf5eb-4862-4f21-87b3-7ec05d1c47d0",
   "metadata": {},
   "outputs": [
    {
     "name": "stderr",
     "output_type": "stream",
     "text": [
      "/Users/michael/InstalledSoftware/anaconda3/envs/pulp/lib/python3.11/site-packages/pulp/pulp.py:1352: UserWarning: Spaces are not permitted in the name. Converted to '_'\n",
      "  warnings.warn(\"Spaces are not permitted in the name. Converted to '_'\")\n"
     ]
    }
   ],
   "source": [
    "EXCEL_INPUT_FILE = \"example-problems/sample-order-small.xlsx\"\n",
    "EXCEL_OUTPUT_FILE = \"example-problems/sample-order-small_results.xlsx\"\n",
    "\n",
    "p2 = RetailProblem.load_from_excel(EXCEL_INPUT_FILE)"
   ]
  },
  {
   "cell_type": "code",
   "execution_count": 14,
   "id": "d7643676-9d4e-4e2f-9b6b-7eacb5a63e9a",
   "metadata": {},
   "outputs": [],
   "source": [
    "p2.initialize_optimization_problem()"
   ]
  },
  {
   "cell_type": "code",
   "execution_count": 15,
   "id": "886c9746-e56c-4e5b-8fb8-720ed7308c83",
   "metadata": {},
   "outputs": [
    {
     "name": "stdout",
     "output_type": "stream",
     "text": [
      "solver = None\n",
      "Welcome to the CBC MILP Solver \n",
      "Version: 2.10.3 \n",
      "Build Date: Dec 15 2019 \n",
      "\n",
      "command line - /Users/michael/InstalledSoftware/anaconda3/envs/pulp/lib/python3.11/site-packages/pulp/solverdir/cbc/osx/64/cbc /var/folders/p6/4vh57wr97x145dy_65rhg3k80000gn/T/b09c3ba85fd244faba568629e78e8a2e-pulp.mps timeMode elapsed branch printingOptions all solution /var/folders/p6/4vh57wr97x145dy_65rhg3k80000gn/T/b09c3ba85fd244faba568629e78e8a2e-pulp.sol (default strategy 1)\n",
      "At line 2 NAME          MODEL\n",
      "At line 3 ROWS\n",
      "At line 15 COLUMNS\n",
      "At line 60 RHS\n",
      "At line 71 BOUNDS\n",
      "At line 80 ENDATA\n",
      "Problem MODEL has 10 rows, 8 columns and 22 elements\n",
      "Coin0008I MODEL read with 0 errors\n",
      "Option for timeMode changed from cpu to elapsed\n",
      "Continuous objective value is 84.77 - 0.00 seconds\n",
      "Cgl0003I 0 fixed, 0 tightened bounds, 1 strengthened rows, 0 substitutions\n",
      "Cgl0004I processed model has 5 rows, 7 columns (7 integer (3 of which binary)) and 15 elements\n",
      "Cutoff increment increased from 1e-05 to 0.00999\n",
      "Cbc0038I Initial state - 2 integers unsatisfied sum - 0.501627\n",
      "Cbc0038I Pass   1: suminf.    0.00000 (0) obj. 86.27 iterations 2\n",
      "Cbc0038I Solution found of 86.27\n",
      "Cbc0038I Cleaned solution of 86.27\n",
      "Cbc0038I Before mini branch and bound, 3 integers at bound fixed and 0 continuous of which 1 were internal integer and 0 internal continuous\n",
      "Cbc0038I Full problem 5 rows 7 columns, reduced to 4 rows 4 columns\n",
      "Cbc0038I Mini branch and bound improved solution from 86.27 to 86.27 (0.00 seconds)\n",
      "Cbc0038I Round again with cutoff of 86.1919\n",
      "Cbc0038I Reduced cost fixing fixed 2 variables on major pass 2\n",
      "Cbc0038I Pass   2: suminf.    0.73475 (4) obj. 86.1919 iterations 2\n",
      "Cbc0038I Pass   3: suminf.    0.65487 (2) obj. 86.1919 iterations 2\n",
      "Cbc0038I Pass   4: suminf.    0.65487 (2) obj. 86.1919 iterations 0\n",
      "Cbc0038I Pass   5: suminf.    0.63579 (3) obj. 86.1919 iterations 1\n",
      "Cbc0038I Pass   6: suminf.    0.63579 (3) obj. 86.1919 iterations 0\n",
      "Cbc0038I Pass   7: suminf.    0.73475 (4) obj. 86.1919 iterations 1\n",
      "Cbc0038I Pass   8: suminf.    0.65487 (2) obj. 86.1919 iterations 2\n",
      "Cbc0038I Pass   9: suminf.    0.40666 (2) obj. 86.1919 iterations 1\n",
      "Cbc0038I Pass  10: suminf.    0.73475 (4) obj. 86.1919 iterations 1\n",
      "Cbc0038I Pass  11: suminf.    0.73475 (4) obj. 86.1919 iterations 0\n",
      "Cbc0038I Pass  12: suminf.    0.73475 (4) obj. 86.1919 iterations 0\n",
      "Cbc0038I Pass  13: suminf.    0.73475 (4) obj. 86.1919 iterations 0\n",
      "Cbc0038I Pass  14: suminf.    0.73475 (4) obj. 86.1919 iterations 0\n",
      "Cbc0038I Pass  15: suminf.    0.73475 (4) obj. 86.1919 iterations 0\n",
      "Cbc0038I Pass  16: suminf.    0.73475 (4) obj. 86.1919 iterations 0\n",
      "Cbc0038I Pass  17: suminf.    0.73475 (4) obj. 86.1919 iterations 0\n",
      "Cbc0038I Pass  18: suminf.    0.73475 (4) obj. 86.1919 iterations 0\n",
      "Cbc0038I Pass  19: suminf.    0.73475 (4) obj. 86.1919 iterations 0\n",
      "Cbc0038I Pass  20: suminf.    0.73475 (4) obj. 86.1919 iterations 0\n",
      "Cbc0038I Pass  21: suminf.    0.73475 (4) obj. 86.1919 iterations 0\n",
      "Cbc0038I Pass  22: suminf.    0.73475 (4) obj. 86.1919 iterations 0\n",
      "Cbc0038I Pass  23: suminf.    0.73475 (4) obj. 86.1919 iterations 0\n",
      "Cbc0038I Pass  24: suminf.    0.73475 (4) obj. 86.1919 iterations 0\n",
      "Cbc0038I Pass  25: suminf.    0.73475 (4) obj. 86.1919 iterations 0\n",
      "Cbc0038I Pass  26: suminf.    0.73475 (4) obj. 86.1919 iterations 0\n",
      "Cbc0038I Pass  27: suminf.    0.73475 (4) obj. 86.1919 iterations 0\n",
      "Cbc0038I Pass  28: suminf.    0.73475 (4) obj. 86.1919 iterations 0\n",
      "Cbc0038I Pass  29: suminf.    0.73475 (4) obj. 86.1919 iterations 0\n",
      "Cbc0038I Pass  30: suminf.    0.73475 (4) obj. 86.1919 iterations 0\n",
      "Cbc0038I Pass  31: suminf.    0.73475 (4) obj. 86.1919 iterations 0\n",
      "Cbc0038I No solution found this major pass\n",
      "Cbc0038I Before mini branch and bound, 3 integers at bound fixed and 0 continuous of which 1 were internal integer and 0 internal continuous\n",
      "Cbc0038I Mini branch and bound did not improve solution (0.01 seconds)\n",
      "Cbc0038I After 0.01 seconds - Feasibility pump exiting with objective of 86.27 - took 0.00 seconds\n",
      "Cbc0012I Integer solution of 86.27 found by feasibility pump after 0 iterations and 0 nodes (0.01 seconds)\n",
      "Cbc0006I The LP relaxation is infeasible or too expensive\n",
      "Cbc0013I At root node, 0 cuts changed objective from 85.578908 to 85.578908 in 1 passes\n",
      "Cbc0014I Cut generator 0 (Probing) - 1 row cuts average 0.0 elements, 1 column cuts (1 active)  in 0.000 seconds - new frequency is 1\n",
      "Cbc0014I Cut generator 1 (Gomory) - 0 row cuts average 0.0 elements, 0 column cuts (0 active)  in 0.000 seconds - new frequency is -100\n",
      "Cbc0014I Cut generator 2 (Knapsack) - 0 row cuts average 0.0 elements, 0 column cuts (0 active)  in 0.000 seconds - new frequency is -100\n",
      "Cbc0014I Cut generator 3 (Clique) - 0 row cuts average 0.0 elements, 0 column cuts (0 active)  in 0.000 seconds - new frequency is -100\n",
      "Cbc0014I Cut generator 4 (MixedIntegerRounding2) - 0 row cuts average 0.0 elements, 0 column cuts (0 active)  in 0.000 seconds - new frequency is -100\n",
      "Cbc0014I Cut generator 5 (FlowCover) - 0 row cuts average 0.0 elements, 0 column cuts (0 active)  in 0.000 seconds - new frequency is -100\n",
      "Cbc0014I Cut generator 6 (TwoMirCuts) - 0 row cuts average 0.0 elements, 0 column cuts (0 active)  in 0.000 seconds - new frequency is -100\n",
      "Cbc0014I Cut generator 7 (ZeroHalf) - 0 row cuts average 0.0 elements, 0 column cuts (0 active)  in 0.000 seconds - new frequency is -100\n",
      "Cbc0001I Search completed - best objective 86.27000000000001, took 0 iterations and 0 nodes (0.01 seconds)\n",
      "Cbc0035I Maximum depth 0, 1 variables fixed on reduced cost\n",
      "Cuts at root node changed objective from 85.5789 to 85.5789\n",
      "Probing was tried 1 times and created 2 cuts of which 0 were active after adding rounds of cuts (0.000 seconds)\n",
      "Gomory was tried 0 times and created 0 cuts of which 0 were active after adding rounds of cuts (0.000 seconds)\n",
      "Knapsack was tried 0 times and created 0 cuts of which 0 were active after adding rounds of cuts (0.000 seconds)\n",
      "Clique was tried 0 times and created 0 cuts of which 0 were active after adding rounds of cuts (0.000 seconds)\n",
      "MixedIntegerRounding2 was tried 0 times and created 0 cuts of which 0 were active after adding rounds of cuts (0.000 seconds)\n",
      "FlowCover was tried 0 times and created 0 cuts of which 0 were active after adding rounds of cuts (0.000 seconds)\n",
      "TwoMirCuts was tried 0 times and created 0 cuts of which 0 were active after adding rounds of cuts (0.000 seconds)\n",
      "ZeroHalf was tried 0 times and created 0 cuts of which 0 were active after adding rounds of cuts (0.000 seconds)\n",
      "\n",
      "Result - Optimal solution found\n",
      "\n",
      "Objective value:                86.27000000\n",
      "Enumerated nodes:               0\n",
      "Total iterations:               0\n",
      "Time (CPU seconds):             0.01\n",
      "Time (Wallclock seconds):       0.01\n",
      "\n",
      "Option for printingOptions changed from normal to all\n",
      "Total time (CPU seconds):       0.01   (Wallclock seconds):       0.01\n",
      "\n"
     ]
    }
   ],
   "source": [
    "p2.solve()"
   ]
  },
  {
   "cell_type": "code",
   "execution_count": 16,
   "id": "06bbc17e-1aee-46b0-b93b-1b478c9edc61",
   "metadata": {},
   "outputs": [
    {
     "name": "stdout",
     "output_type": "stream",
     "text": [
      "Status: Optimal\n",
      "empty_order_retailer1 = 1.0\n",
      "empty_order_retailer2 = 0.0\n",
      "pay_shipping_retailer1 = 0.0\n",
      "pay_shipping_retailer2 = 0.0\n",
      "quant_hooks_retailer1 = 0.0\n",
      "quant_hooks_retailer2 = 20.0\n",
      "quant_plastic_minnows_retailer1 = 0.0\n",
      "quant_plastic_minnows_retailer2 = 3.0\n",
      "Total purchase cost =  86.27000000000001\n"
     ]
    }
   ],
   "source": [
    "p2.print_optimization_results()"
   ]
  },
  {
   "cell_type": "code",
   "execution_count": 17,
   "id": "91553f87-cc73-412d-9e1d-ecef0e6dc665",
   "metadata": {},
   "outputs": [
    {
     "name": "stdout",
     "output_type": "stream",
     "text": [
      "Optimal solution found. Saving results to example-problems/sample-order-small_results.xlsx\n"
     ]
    }
   ],
   "source": [
    "if p2.model.status == 1:\n",
    "  print(f\"Optimal solution found. Saving results to {EXCEL_OUTPUT_FILE}\")\n",
    "  p2.save_results_to_excel(EXCEL_OUTPUT_FILE)\n",
    "else:\n",
    "  print(f\"WARNING: optimal solution was not found. Model status was {LpStatus[p2.model.status]}\")"
   ]
  },
  {
   "cell_type": "code",
   "execution_count": 18,
   "id": "aa234370-3d19-4e0a-a373-bf9e373eaf98",
   "metadata": {},
   "outputs": [
    {
     "data": {
      "text/plain": [
       "'example-problems/sample-order-small_results.xlsx'"
      ]
     },
     "execution_count": 18,
     "metadata": {},
     "output_type": "execute_result"
    }
   ],
   "source": [
    "EXCEL_OUTPUT_FILE"
   ]
  },
  {
   "cell_type": "code",
   "execution_count": null,
   "id": "0a21580c-f45c-447b-9a0b-d3e215ee3f5d",
   "metadata": {},
   "outputs": [],
   "source": []
  },
  {
   "cell_type": "markdown",
   "id": "757cddee-bc0f-4edc-b412-d2117e3085c7",
   "metadata": {},
   "source": [
    "You can similarly access results programatically"
   ]
  },
  {
   "cell_type": "code",
   "execution_count": 19,
   "id": "6d8d0ba5-1486-4ca0-8244-9685b8730a86",
   "metadata": {},
   "outputs": [
    {
     "data": {
      "text/plain": [
       "0.0"
      ]
     },
     "execution_count": 19,
     "metadata": {},
     "output_type": "execute_result"
    }
   ],
   "source": [
    "p2.quantity_to_order['hooks']['retailer1'].varValue"
   ]
  },
  {
   "cell_type": "code",
   "execution_count": 20,
   "id": "edbaeb07-18ba-4e4e-a92d-12aa52da9eff",
   "metadata": {},
   "outputs": [
    {
     "data": {
      "text/plain": [
       "20.0"
      ]
     },
     "execution_count": 20,
     "metadata": {},
     "output_type": "execute_result"
    }
   ],
   "source": [
    "p2.quantity_to_order['hooks']['retailer2'].varValue"
   ]
  },
  {
   "cell_type": "code",
   "execution_count": 21,
   "id": "e5fa5d7d-c2fa-496c-8998-d696120d70e1",
   "metadata": {},
   "outputs": [
    {
     "data": {
      "text/plain": [
       "0.0"
      ]
     },
     "execution_count": 21,
     "metadata": {},
     "output_type": "execute_result"
    }
   ],
   "source": [
    "p2.quantity_to_order['plastic-minnows']['retailer1'].varValue"
   ]
  },
  {
   "cell_type": "code",
   "execution_count": 22,
   "id": "0e083449-a5f1-4359-8358-8290f5616207",
   "metadata": {},
   "outputs": [
    {
     "data": {
      "text/plain": [
       "3.0"
      ]
     },
     "execution_count": 22,
     "metadata": {},
     "output_type": "execute_result"
    }
   ],
   "source": [
    "p2.quantity_to_order['plastic-minnows']['retailer2'].varValue"
   ]
  },
  {
   "cell_type": "code",
   "execution_count": null,
   "id": "be949664-99b0-4549-bec7-4c7c52d23535",
   "metadata": {},
   "outputs": [],
   "source": []
  },
  {
   "cell_type": "code",
   "execution_count": null,
   "id": "c64b4bb3-b629-4570-8ab5-2f5d7517cff7",
   "metadata": {},
   "outputs": [],
   "source": []
  }
 ],
 "metadata": {
  "kernelspec": {
   "display_name": "Python 3 (ipykernel)",
   "language": "python",
   "name": "python3"
  },
  "language_info": {
   "codemirror_mode": {
    "name": "ipython",
    "version": 3
   },
   "file_extension": ".py",
   "mimetype": "text/x-python",
   "name": "python",
   "nbconvert_exporter": "python",
   "pygments_lexer": "ipython3",
   "version": "3.11.5"
  }
 },
 "nbformat": 4,
 "nbformat_minor": 5
}
